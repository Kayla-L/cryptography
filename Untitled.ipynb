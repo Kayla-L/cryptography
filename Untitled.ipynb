{
 "cells": [
  {
   "cell_type": "code",
   "execution_count": 1,
   "id": "c2741f00",
   "metadata": {},
   "outputs": [],
   "source": [
    "import caesar"
   ]
  },
  {
   "cell_type": "code",
   "execution_count": 5,
   "id": "89c8153c",
   "metadata": {},
   "outputs": [
    {
     "data": {
      "text/plain": [
       "<module 'caesar' from '/Users/kayla/Desktop/cryptography/caesar.py'>"
      ]
     },
     "execution_count": 5,
     "metadata": {},
     "output_type": "execute_result"
    }
   ],
   "source": [
    "caesar"
   ]
  },
  {
   "cell_type": "code",
   "execution_count": 6,
   "id": "d54338c1",
   "metadata": {},
   "outputs": [
    {
     "data": {
      "text/plain": [
       "caesar.Caesar"
      ]
     },
     "execution_count": 6,
     "metadata": {},
     "output_type": "execute_result"
    }
   ],
   "source": [
    "caesar.Caesar"
   ]
  },
  {
   "cell_type": "code",
   "execution_count": 7,
   "id": "934977c1",
   "metadata": {},
   "outputs": [],
   "source": [
    "bob = caesar.Caesar(\"u\")"
   ]
  },
  {
   "cell_type": "code",
   "execution_count": 8,
   "id": "2e816b90",
   "metadata": {},
   "outputs": [
    {
     "data": {
      "text/plain": [
       "'[$$x4\"$\\'#}#{'"
      ]
     },
     "execution_count": 8,
     "metadata": {},
     "output_type": "execute_result"
    }
   ],
   "source": [
    "bob.encrypt(\"Good morning\")"
   ]
  },
  {
   "cell_type": "code",
   "execution_count": 10,
   "id": "c05c56e8",
   "metadata": {},
   "outputs": [
    {
     "data": {
      "text/plain": [
       "'Good morning'"
      ]
     },
     "execution_count": 10,
     "metadata": {},
     "output_type": "execute_result"
    }
   ],
   "source": [
    "bob.decrypt(\"[$$x4\\\"$'#}#{\")"
   ]
  },
  {
   "cell_type": "code",
   "execution_count": 11,
   "id": "c581b28d",
   "metadata": {},
   "outputs": [],
   "source": [
    "# find out how frequent each of the different characters are in english \n",
    "# make a for loop to try out a bunch of keys\n",
    "# find how frequent each of the different characters are in the message \n",
    "# compare the frequency distribution for english and for the message\n",
    "# print the messages found to have a similar frequency distribution of letters with english "
   ]
  },
  {
   "cell_type": "code",
   "execution_count": 12,
   "id": "e5978feb",
   "metadata": {},
   "outputs": [],
   "source": [
    "import requests"
   ]
  },
  {
   "cell_type": "code",
   "execution_count": null,
   "id": "a8d4feae",
   "metadata": {},
   "outputs": [],
   "source": [
    "requests.get()"
   ]
  }
 ],
 "metadata": {
  "kernelspec": {
   "display_name": "Python 3",
   "language": "python",
   "name": "python3"
  },
  "language_info": {
   "codemirror_mode": {
    "name": "ipython",
    "version": 3
   },
   "file_extension": ".py",
   "mimetype": "text/x-python",
   "name": "python",
   "nbconvert_exporter": "python",
   "pygments_lexer": "ipython3",
   "version": "3.9.5"
  }
 },
 "nbformat": 4,
 "nbformat_minor": 5
}

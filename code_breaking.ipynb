{
 "cells": [
  {
   "cell_type": "markdown",
   "id": "c3c8f469",
   "metadata": {},
   "source": [
    "# Code Breaking\n",
    "\n",
    "Breaking encrypted text using the Caesar cipher"
   ]
  },
  {
   "cell_type": "code",
   "execution_count": 19,
   "id": "c2741f00",
   "metadata": {},
   "outputs": [],
   "source": [
    "import caesar\n",
    "import requests\n",
    "import collections\n",
    "from caesar import Caesar "
   ]
  },
  {
   "cell_type": "code",
   "execution_count": 2,
   "id": "89c8153c",
   "metadata": {},
   "outputs": [
    {
     "data": {
      "text/plain": [
       "<module 'caesar' from '/Users/kayla/Desktop/cryptography/caesar.py'>"
      ]
     },
     "execution_count": 2,
     "metadata": {},
     "output_type": "execute_result"
    }
   ],
   "source": [
    "caesar"
   ]
  },
  {
   "cell_type": "code",
   "execution_count": 3,
   "id": "d54338c1",
   "metadata": {},
   "outputs": [
    {
     "data": {
      "text/plain": [
       "caesar.Caesar"
      ]
     },
     "execution_count": 3,
     "metadata": {},
     "output_type": "execute_result"
    }
   ],
   "source": [
    "caesar.Caesar"
   ]
  },
  {
   "cell_type": "code",
   "execution_count": 4,
   "id": "934977c1",
   "metadata": {},
   "outputs": [],
   "source": [
    "bob = caesar.Caesar(\"u\")"
   ]
  },
  {
   "cell_type": "code",
   "execution_count": 5,
   "id": "2e816b90",
   "metadata": {},
   "outputs": [
    {
     "data": {
      "text/plain": [
       "'[$$x4\"$\\'#}#{'"
      ]
     },
     "execution_count": 5,
     "metadata": {},
     "output_type": "execute_result"
    }
   ],
   "source": [
    "bob.encrypt(\"Good morning\")"
   ]
  },
  {
   "cell_type": "code",
   "execution_count": 6,
   "id": "c05c56e8",
   "metadata": {},
   "outputs": [
    {
     "data": {
      "text/plain": [
       "'Good morning'"
      ]
     },
     "execution_count": 6,
     "metadata": {},
     "output_type": "execute_result"
    }
   ],
   "source": [
    "bob.decrypt(\"[$$x4\\\"$'#}#{\")"
   ]
  },
  {
   "cell_type": "code",
   "execution_count": 7,
   "id": "c581b28d",
   "metadata": {},
   "outputs": [],
   "source": [
    "# find out how frequent each of the different characters are in english \n",
    "# make a for loop to try out a bunch of keys\n",
    "# find how frequent each of the different characters are in the message \n",
    "# compare the frequency distribution for english and for the message\n",
    "# print the messages found to have a similar frequency distribution of letters with english "
   ]
  },
  {
   "cell_type": "code",
   "execution_count": 8,
   "id": "a8d4feae",
   "metadata": {},
   "outputs": [],
   "source": [
    "sherlock_url = \"https://www.gutenberg.org/files/2852/2852-0.txt\"\n",
    "sherlock = requests.get(sherlock_url).content.decode(\"utf-8\")"
   ]
  },
  {
   "cell_type": "code",
   "execution_count": 24,
   "id": "676fa5e4",
   "metadata": {},
   "outputs": [
    {
     "name": "stdout",
     "output_type": "stream",
     "text": [
      "Counter({' ': 91926, 'e': 31738, 't': 23482, 'o': 20555, 'a': 20303, 'n': 17225, 'h': 16457, 'i': 16212, 'r': 15494, 's': 15433, 'd': 10747, 'l': 9993, 'u': 7943, '\\r': 7729, '\\n': 7729, 'm': 6630, 'c': 6257, 'w': 6212, 'f': 5401, 'y': 5359, 'g': 4583, 'p': 4068, '.': 3652, ',': 3582, 'b': 3360, 'v': 2691, 'k': 2069, 'I': 1968, '“': 1402, '”': 1366, 'H': 857, 'T': 768, 'S': 676, 'W': 542, '?': 518, 'B': 486, 'A': 418, '’': 404, 'x': 403, 'M': 366, '-': 340, 'C': 289, 'D': 252, 'Y': 235, 'N': 226, 'L': 211, 'j': 210, 'E': 203, 'q': 193, 'G': 185, 'O': 183, '!': 183, 'P': 162, '—': 156, 'F': 149, 'R': 127, 'z': 113, '1': 89, '_': 72, 'U': 61, ';': 45, 'J': 37, 'V': 34, '‘': 31, ':': 30, '0': 27, '2': 26, '8': 26, '(': 22, ')': 22, '\"': 22, '4': 21, '3': 19, '7': 16, '*': 16, '5': 15, '6': 14, 'K': 12, '9': 9, 'Q': 9, \"'\": 7, 'é': 6, '/': 6, '[': 5, ']': 5, 'ê': 2, 'X': 2, '$': 2, '\\ufeff': 1, '#': 1, 'æ': 1, 'œ': 1, 'à': 1, '£': 1, '%': 1})\n"
     ]
    }
   ],
   "source": [
    "sherlock_counter = collections.Counter(sherlock)\n",
    "print(sherlock_counter)"
   ]
  },
  {
   "cell_type": "code",
   "execution_count": 16,
   "id": "407d40ef",
   "metadata": {},
   "outputs": [],
   "source": [
    "ciphertext = \"''''''9`lz5'Vu'{ol'klh{o'vm'Zpy'Johyslz'~l'pux|pylk'mvy'{opz'!v|un'''''''nlu{slthu'huk'mv|uk'{oh{'ol'ohk'illu'mhytpun'pu'Jhuhkh5'Myvt'{ol'''''''hjjv|u{z'~opjo'oh}l'ylhjolk'|z'ol'pz'hu'l jlsslu{'mlssv~'pu'l}ly!'''''''~h!5'P'zwlhr'uv~'uv{'hz'h'tlkpjhs'thu'i|{'hz'h'{y|z{ll'huk'''''''l lj|{vy'vm'Zpy'Johyslz6z'~pss5:\""
   ]
  },
  {
   "cell_type": "code",
   "execution_count": 17,
   "id": "266b21f9",
   "metadata": {},
   "outputs": [
    {
     "data": {
      "text/plain": [
       "\"''''''9`lz5'Vu'{ol'klh{o'vm'Zpy'Johyslz'~l'pux|pylk'mvy'{opz'!v|un'''''''nlu{slthu'huk'mv|uk'{oh{'ol'ohk'illu'mhytpun'pu'Jhuhkh5'Myvt'{ol'''''''hjjv|u{z'~opjo'oh}l'ylhjolk'|z'ol'pz'hu'l jlsslu{'mlssv~'pu'l}ly!'''''''~h!5'P'zwlhr'uv~'uv{'hz'h'tlkpjhs'thu'i|{'hz'h'{y|z{ll'huk'''''''l lj|{vy'vm'Zpy'Johyslz6z'~pss5:\""
      ]
     },
     "execution_count": 17,
     "metadata": {},
     "output_type": "execute_result"
    }
   ],
   "source": [
    "ciphertext"
   ]
  },
  {
   "cell_type": "code",
   "execution_count": 27,
   "id": "a21421e9",
   "metadata": {},
   "outputs": [
    {
     "name": "stdout",
     "output_type": "stream",
     "text": [
      "printable_character:  \n",
      "hhhhhhzBN\\vh8Wh]QNhMNJ]QhXOh<R[h,QJ[UN\\h`NhRWZ^R[NMhOX[h]QR\\hbX^WPhhhhhhhPNW]UNVJWhJWMhOX^WMh]QJ]hQNhQJMhKNNWhOJ[VRWPhRWh,JWJMJvh/[XVh]QNhhhhhhhJLLX^W]\\h`QRLQhQJ_Nh[NJLQNMh^\\hQNhR\\hJWhNaLNUUNW]hONUUX`hRWhN_N[bhhhhhhh`Jbvh2h\\YNJThWX`hWX]hJ\\hJhVNMRLJUhVJWhK^]hJ\\hJh][^\\]NNhJWMhhhhhhhNaNL^]X[hXOh<R[h,QJ[UN\\w\\h`RUUv{\n",
      "Counter({'h': 84, 'N': 29, 'J': 24, 'W': 19, ']': 14, 'Q': 14, '\\\\': 12, 'R': 12, '[': 12, 'X': 11, 'U': 10, 'M': 9, '^': 8, 'L': 7, 'O': 6, '`': 6, 'V': 5, 'v': 4, ',': 3, 'b': 3, 'P': 3, '<': 2, 'K': 2, '_': 2, 'a': 2, 'z': 1, 'B': 1, '8': 1, 'Z': 1, '/': 1, '2': 1, 'Y': 1, 'T': 1, 'w': 1, '{': 1})\n",
      "[('h', 84), ('N', 29), ('J', 24)]\n"
     ]
    }
   ],
   "source": [
    "for printable_character_number in range(32, 127):\n",
    "    printable_character = chr(printable_character_number)\n",
    "    print(\"printable_character:\", printable_character)\n",
    "    caesar = Caesar(printable_character)\n",
    "    message_text = caesar.decrypt(ciphertext)\n",
    "    print(message_text)\n",
    "    message_counter = collections.Counter(message_text)\n",
    "    print(message_counter)\n",
    "    message_most_common = message_counter.most_common(3)\n",
    "    print(message_most_common)\n",
    "    break \n",
    "    "
   ]
  },
  {
   "cell_type": "code",
   "execution_count": null,
   "id": "7d606409",
   "metadata": {},
   "outputs": [],
   "source": []
  }
 ],
 "metadata": {
  "kernelspec": {
   "display_name": "Python 3",
   "language": "python",
   "name": "python3"
  },
  "language_info": {
   "codemirror_mode": {
    "name": "ipython",
    "version": 3
   },
   "file_extension": ".py",
   "mimetype": "text/x-python",
   "name": "python",
   "nbconvert_exporter": "python",
   "pygments_lexer": "ipython3",
   "version": "3.9.5"
  }
 },
 "nbformat": 4,
 "nbformat_minor": 5
}
